{
 "cells": [
  {
   "cell_type": "code",
   "execution_count": 11,
   "id": "35240dfc",
   "metadata": {},
   "outputs": [
    {
     "name": "stdout",
     "output_type": "stream",
     "text": [
      "29\n"
     ]
    }
   ],
   "source": [
    "import numpy as np\n",
    "array1 = np.array([[5,1,2]\n",
    "                  ,[3,4,5]\n",
    "                  ,[6,7,8]])\n",
    "i = 0\n",
    "result = 0\n",
    "result2 = 0\n",
    "for i in range (len(array1)) :\n",
    "    \n",
    "    result += array1[i,i]\n",
    "    i +=1\n",
    "a2 = -1\n",
    "for a in range (len(array1)) : \n",
    "    result2 += array1[a,a2]\n",
    "    a2 += -1\n",
    "    a +=1\n",
    "print(result+abs(result2))"
   ]
  },
  {
   "cell_type": "code",
   "execution_count": null,
   "id": "73bc2d33",
   "metadata": {},
   "outputs": [],
   "source": []
  }
 ],
 "metadata": {
  "kernelspec": {
   "display_name": "Python 3",
   "language": "python",
   "name": "python3"
  },
  "language_info": {
   "codemirror_mode": {
    "name": "ipython",
    "version": 3
   },
   "file_extension": ".py",
   "mimetype": "text/x-python",
   "name": "python",
   "nbconvert_exporter": "python",
   "pygments_lexer": "ipython3",
   "version": "3.8.8"
  }
 },
 "nbformat": 4,
 "nbformat_minor": 5
}
