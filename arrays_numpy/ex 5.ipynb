{
 "cells": [
  {
   "cell_type": "code",
   "execution_count": 2,
   "id": "7b445f48",
   "metadata": {},
   "outputs": [
    {
     "name": "stdout",
     "output_type": "stream",
     "text": [
      "[[1 3]\n",
      " [3 5]\n",
      " [6 8]]\n"
     ]
    }
   ],
   "source": [
    "import numpy as np\n",
    "array = np.array([[1,2,3],[3,4,5],[6,7,8]])\n",
    "fillter_array = []\n",
    "for i in range(len(array)):\n",
    "    for i2 in range(len(array[i])):\n",
    "        if array[i, i2] == np.mean(array[i]):\n",
    "            fillter_array.append(False)\n",
    "        else :\n",
    "            fillter_array.append(True)\n",
    "array1 = array.flatten()\n",
    "new_array = array1[fillter_array]\n",
    "new_array = new_array.reshape(len(array),len(array[0])-1)\n",
    "print(new_array)\n"
   ]
  },
  {
   "cell_type": "code",
   "execution_count": null,
   "id": "d8207182",
   "metadata": {},
   "outputs": [],
   "source": []
  }
 ],
 "metadata": {
  "kernelspec": {
   "display_name": "Python 3",
   "language": "python",
   "name": "python3"
  },
  "language_info": {
   "codemirror_mode": {
    "name": "ipython",
    "version": 3
   },
   "file_extension": ".py",
   "mimetype": "text/x-python",
   "name": "python",
   "nbconvert_exporter": "python",
   "pygments_lexer": "ipython3",
   "version": "3.8.8"
  }
 },
 "nbformat": 4,
 "nbformat_minor": 5
}
