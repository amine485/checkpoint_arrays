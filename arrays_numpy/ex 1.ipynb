{
 "cells": [
  {
   "cell_type": "code",
   "execution_count": 1,
   "id": "ca120855",
   "metadata": {},
   "outputs": [
    {
     "name": "stdout",
     "output_type": "stream",
     "text": [
      "array1 : [[0 1 2]\n",
      " [3 4 5]]\n",
      "list1 : [[0, 1, 2], [3, 4, 5]]\n"
     ]
    }
   ],
   "source": [
    "import numpy as np \n",
    "array1 = np.array([[0,1,2],[3,4,5]])\n",
    "list1 = array1.tolist()\n",
    "print(f'array1 : {array1}')\n",
    "print(f'list1 : {list1}')"
   ]
  },
  {
   "cell_type": "code",
   "execution_count": null,
   "id": "6b641886",
   "metadata": {},
   "outputs": [],
   "source": []
  }
 ],
 "metadata": {
  "kernelspec": {
   "display_name": "Python 3",
   "language": "python",
   "name": "python3"
  },
  "language_info": {
   "codemirror_mode": {
    "name": "ipython",
    "version": 3
   },
   "file_extension": ".py",
   "mimetype": "text/x-python",
   "name": "python",
   "nbconvert_exporter": "python",
   "pygments_lexer": "ipython3",
   "version": "3.8.8"
  }
 },
 "nbformat": 4,
 "nbformat_minor": 5
}
