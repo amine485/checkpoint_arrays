{
 "cells": [
  {
   "cell_type": "code",
   "execution_count": null,
   "id": "edacaa45",
   "metadata": {},
   "outputs": [],
   "source": [
    "import numpy as np\n",
    "array1 = np.array([[0,1,2]\n",
    "                  ,[3,4,5]\n",
    "                  ,[6,7,8]])\n",
    "number = int(input('enter a number : '))\n",
    "def higher():\n",
    "  for i in range (len(array1)) :\n",
    "    for cpt in range (len(array1[i])) :\n",
    "      if array1[i ,cpt] > number :\n",
    "        print(array1[i ,cpt])\n",
    "        cpt += 1\n",
    "    i += 1\n",
    "higher()\n"
   ]
  },
  {
   "cell_type": "code",
   "execution_count": null,
   "id": "087d5494",
   "metadata": {},
   "outputs": [],
   "source": [
    "\n",
    "5\n"
   ]
  },
  {
   "cell_type": "code",
   "execution_count": null,
   "id": "73a81ee0",
   "metadata": {},
   "outputs": [],
   "source": [
    "4"
   ]
  },
  {
   "cell_type": "code",
   "execution_count": null,
   "id": "deefffcc",
   "metadata": {},
   "outputs": [],
   "source": []
  }
 ],
 "metadata": {
  "kernelspec": {
   "display_name": "Python 3",
   "language": "python",
   "name": "python3"
  },
  "language_info": {
   "codemirror_mode": {
    "name": "ipython",
    "version": 3
   },
   "file_extension": ".py",
   "mimetype": "text/x-python",
   "name": "python",
   "nbconvert_exporter": "python",
   "pygments_lexer": "ipython3",
   "version": "3.8.8"
  }
 },
 "nbformat": 4,
 "nbformat_minor": 5
}
